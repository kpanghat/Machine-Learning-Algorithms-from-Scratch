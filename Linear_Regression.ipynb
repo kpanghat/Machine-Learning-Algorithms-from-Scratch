{
  "cells": [
    {
      "cell_type": "code",
      "execution_count": 1,
      "id": "TwAEo7PdqJaW",
      "metadata": {
        "id": "TwAEo7PdqJaW"
      },
      "outputs": [],
      "source": [
        "import pandas as pd\n",
        "import numpy as np\n",
        "import math\n",
        "from tqdm import tqdm\n",
        "from sklearn.model_selection import train_test_split\n",
        "from dataclasses import dataclass\n",
        "import matplotlib.pyplot as plt\n",
        "import random"
      ]
    },
    {
      "cell_type": "code",
      "execution_count": 2,
      "id": "cOAxU4ZkqJaX",
      "metadata": {
        "id": "cOAxU4ZkqJaX"
      },
      "outputs": [],
      "source": [
        "class LinearRegression:\n",
        "\n",
        "    def __init__(self,X,y,learningRate,maxIteration,error,epsilon,gd,stochastic_gd, regularization, ridge_lambda):\n",
        "        self.w = None\n",
        "        self.lowRank = None\n",
        "        self.FullRank = None\n",
        "        self.learningRate = learningRate\n",
        "        self.X = X\n",
        "        self.y = y\n",
        "        self.maxIteration = maxIteration\n",
        "        self.epsilon = epsilon\n",
        "        self.gd = gd\n",
        "        self.stochastic_gd = stochastic_gd\n",
        "        self.regularization= regularization\n",
        "        self.ridge_lambda = ridge_lambda\n",
        "        self.error= error\n",
        "\n",
        "    \n",
        "    def splitData(self):\n",
        "        X_Train, X_Test, y_Train, y_Test = train_test_split(self.X,self.y,test_size=0.3,random_state=0,shuffle=True)\n",
        "        return X_Train, X_Test, y_Train, y_Test\n",
        "\n",
        "    def add_X0(self,X):\n",
        "        return np.column_stack((np.ones(X.shape[0]),X))\n",
        "\n",
        "    def normalizeTrain(self,X_Train):\n",
        "        mean = np.mean(X_Train, axis =0)\n",
        "        std = np.std(X_Train, axis =0)\n",
        "        X_norm = (X_Train - mean)/std\n",
        "        X_norm = self.add_X0(X_norm)\n",
        "        return X_norm,mean,std\n",
        "\n",
        "    def normalizeTest(self,X_test,mean,std):\n",
        "        X_norm = (X_test - mean)/std\n",
        "        X_norm = self.add_X0(X_norm)\n",
        "        return X_norm\n",
        "    \n",
        "    def rank(self,X_Train):\n",
        "      # rank = np.linalg.matrix_rank(X)\n",
        "        v,s,u = np.linalg.svd(X_Train)\n",
        "        rank = np.sum([1 if abs(x) > 0 else 0 for x in s])\n",
        "        return rank\n",
        "\n",
        "    def checkFullRank(self,X_Train):\n",
        "        rank  = self.rank(X_Train)\n",
        "        if rank == min(X_Train.shape):\n",
        "            self.FullRank = True\n",
        "        else:\n",
        "            self.FullRank = False\n",
        "\n",
        "    def checkLowRank(self,X_Train):\n",
        "        if X_Train.shape[1] < X_Train.shape[0]:\n",
        "            self.lowRank = False\n",
        "        else:\n",
        "            self.lowRank = True\n",
        "\n",
        "    def normalEquation(self,X_Train,y_Train):\n",
        "        return np.linalg.inv(X_Train.T.dot(X_Train)).dot(X_Train.T).dot(y_Train)\n",
        "\n",
        "    def predict(self,X_test_data_point):\n",
        "        return X_test_data_point.dot(self.w)\n",
        "\n",
        "    def sse(self,X,y): ## Sum Square Errors\n",
        "        y_hat =self.predict(X)\n",
        "        return((y-y_hat)**2).sum()\n",
        "\n",
        "    def costFunction(self,X,y):\n",
        "        return self.sse(X,y)/2\n",
        "\n",
        "    def costDerivative(self,X_Train,y_Train):\n",
        "        y_hat = self.predict(X_Train)\n",
        "        return (y_hat - y_Train).dot(X_Train)\n",
        "\n",
        "    def gradientDescent(self,X_Train,y_Train):\n",
        "        errors = []\n",
        "        error_prev = np.inf\n",
        "        for i in tqdm(range(self.maxIteration)):\n",
        "            gradient = self.costDerivative(X_Train,y_Train)\n",
        "            self.w = self.w - (self.learningRate * gradient)\n",
        "            current_error = self.costFunction(X_Train,y_Train)\n",
        "            error_diff= error_prev - current_error\n",
        "            error_prev = current_error\n",
        "            errors.append(current_error)\n",
        "            if  abs(error_diff) < self.epsilon:\n",
        "                print('Model stopped running')\n",
        "                break\n",
        "            \n",
        "        self.plot_rmse(errors)\n",
        "        \n",
        "        return\n",
        "        \n",
        "    ## NORMAL EQUATION WITH REGULARIZATION\n",
        "    def normalEquationWithRegularization(self,X_Train,y_Train):\n",
        "        identity_matrix = self.ridge_lambda*np.identity(n=X_Train.shape[1], dtype = np.float32)\n",
        "        return np.linalg.inv(X_Train.T.dot(X_Train) + identity_matrix).dot(X_Train.T).dot(y_Train)\n",
        "    \n",
        "    ## COST FUNCTION WITH REGULARIZATION (USED FOR GRADIENT DESCENT)\n",
        "    def costFunctionWithRegularization(self,X,y):\n",
        "        return self.sse(X,y)/2 + (self.ridge_lambda*np.sum(self.w**2))/2\n",
        "\n",
        "    ## COST FUNCTION DERIVATIVE WITH REGULARIZATION (USED FOR GRADIENT DESCENT)\n",
        "    def costDerivativeWithRegularization(self,X,y):\n",
        "        y_hat = self.predict(X)\n",
        "        return (y_hat - y).dot(X) + self.ridge_lambda*self.w\n",
        "\n",
        "    ## GRADIENT DESCENT WITH REGULARIZATION\n",
        "    def gradientWithRegularization(self,X_Train,y_Train):\n",
        "        errors = []\n",
        "        error_prev = np.inf\n",
        "        for i in tqdm(range(self.maxIteration)):\n",
        "            gradient = self.costDerivativeWithRegularization(X_Train,y_Train)\n",
        "            self.w = self.w - (self.learningRate * gradient)\n",
        "            current_error = self.costFunctionWithRegularization(X_Train,y_Train)\n",
        "            error_diff= error_prev - current_error\n",
        "            error_prev = current_error\n",
        "            errors.append(current_error)\n",
        "            if np.abs(error_diff) < self.epsilon:\n",
        "                print('Model stopped running')\n",
        "                break\n",
        "        self.plot_rmse(errors)\n",
        "    \n",
        "    ## STOCHASTIC GRADIENT DESCENT\n",
        "    def stochasticGradientDescent(self, X_Train, y_Train):\n",
        "        errors = []\n",
        "        error_prev = np.inf\n",
        "\n",
        "        for t in tqdm(range(self.maxIteration)):\n",
        "            X_Gradient_Sample, _, y_Gradient_Sample ,__  = train_test_split(X_Train,y_Train,test_size=0.80,shuffle=True)\n",
        "            gradient = self.costDerivative(X_Gradient_Sample,y_Gradient_Sample)\n",
        "            self.w = self.w - (self.learningRate * gradient)\n",
        "            current_error = self.costFunction(X_Gradient_Sample,y_Gradient_Sample)\n",
        "            error_diff= error_prev - current_error\n",
        "            error_prev = current_error\n",
        "            errors.append(current_error)\n",
        "            if  abs(error_diff) < self.epsilon:\n",
        "                print('Model stopped running')\n",
        "                break\n",
        "        self.plot_rmse(errors)\n",
        "\n",
        "    ## STOCHASTIC GRADIENT DESCENT WITH REGULARIZATION\n",
        "    def stochasticGradientWithRegularization(self,X_Train,y_Train):\n",
        "        errors = []\n",
        "        error_prev = np.inf\n",
        "        for i in tqdm(range(self.maxIteration)):\n",
        "            X_Gradient_Sample, _, y_Gradient_Sample ,__  = train_test_split(X_Train,y_Train,test_size=0.80,shuffle=True)\n",
        "            gradient = self.costDerivativeWithRegularization(X_Gradient_Sample,y_Gradient_Sample)\n",
        "            self.w = self.w - (self.learningRate * gradient)\n",
        "            current_error = self.costFunctionWithRegularization(X_Gradient_Sample,y_Gradient_Sample)\n",
        "            error_diff= error_prev - current_error\n",
        "            error_prev = current_error\n",
        "            errors.append(current_error)\n",
        "            if np.abs(error_diff) < self.epsilon:\n",
        "                print('Model stopped running')\n",
        "                break\n",
        "        self.plot_rmse(errors)\n",
        "\n",
        "    # Function for RMSE error calculation        \n",
        "    def rmse(self, X, y):\n",
        "        return np.sqrt(self.sse(X, y) / X.shape[0])\n",
        "        \n",
        "    def plot_rmse(self, errors):\n",
        "        \"\"\"\n",
        "        @X: error_sequence, vector of rmse\n",
        "        @does: Plots the error function\n",
        "        @return: plot\n",
        "        \"\"\"\n",
        "        # Data for plotting\n",
        "        s = np.array(errors)\n",
        "        t = np.arange(s.size)\n",
        "\n",
        "        fig, ax = plt.subplots()\n",
        "        ax.plot(t, s)\n",
        "\n",
        "        ax.set(xlabel='iterations', ylabel=self.error,\n",
        "               title='{} trend'.format(self.error))\n",
        "        ax.grid()\n",
        "\n",
        "        #plt.legend(bbox_to_anchor=(1.05,1), loc=2, shadow=True)\n",
        "        plt.show()\n",
        "        \n",
        "    def fit(self):\n",
        "        X_train,X_test,y_train,y_test = self.splitData()\n",
        "        X_train, mean,std = self.normalizeTrain(X_train)\n",
        "        X_test = self.normalizeTest(X_test,mean,std)\n",
        "        \n",
        "        ## IF REGULARIZATION IS TRUE AND WE ARE EXPECTED TO SOLVE USING NORMAL EQUATION THEN WE NEED TO CHECK IF X_train.T.dot(X_train) + lambda*I IS INVERTIBLE OR NOT\n",
        "        if self.regularization and not self.gd and not self.stochastic_gd:\n",
        "          checkInvertible = (X_train.T.dot(X_train)) + (self.ridge_lambda*np.identity(n=X_train.shape[1], dtype = np.float32))\n",
        "          self.checkFullRank(checkInvertible)\n",
        "          self.checkLowRank(X_train)\n",
        "        else:\n",
        "          self.checkFullRank(X_train)\n",
        "          self.checkLowRank(X_train)\n",
        "\n",
        "        ## ADDED OUTPUT MESSAGES TO BE PRINTED IF USER TRIES TO USE NORMAL EQUATION FOR NON INVERTIBLE MATRIX OR LARGE DATASET\n",
        "        if (not self.FullRank or self.lowRank) and not self.gd and not self.stochastic_gd:\n",
        "          print('The dataset is not Full Rank. Cannot use normal equaltion to train this model. Try using Stochastic Gradient Descent or Gradient Descent')\n",
        "          return\n",
        "\n",
        "        if X_train.shape[0] > 10000 and not self.gd and not self.stochastic_gd:\n",
        "          print('The dataset size if large. Using normal Equation to train this model would be time expensinve. Try using Stochastic Gradient Descent or Gradient Descent')\n",
        "          return\n",
        "\n",
        "\n",
        "        ## FOLLOWING IF ELSE LADDER CONTROLS WHICH METHOD WILL BE USED TO SOLVE LINEAR REGRESSION, BASED ON USER INPUT\n",
        "        if (self.FullRank and not self.lowRank and X_train.shape[0] <= 10000 and not self.gd and not self.stochastic_gd and \n",
        "        not self.regularization):\n",
        "            print('Solved using normal equation without regularization')\n",
        "            self.w = self.normalEquation(X_train,y_train)\n",
        "\n",
        "        if (self.FullRank and not self.lowRank and X_train.shape[0] <= 10000 and not self.gd and not self.stochastic_gd and\n",
        "        self.regularization):\n",
        "            print('Solved using normal equation with regularization')\n",
        "            self.w = self.normalEquationWithRegularization(X_train,y_train)    \n",
        "            \n",
        "        elif self.gd and not self.regularization:\n",
        "            print('Solved using gradient descent without regularization')\n",
        "            self.w = np.zeros(X_train.shape[1])\n",
        "            self.gradientDescent(X_train,y_train)\n",
        "\n",
        "        elif self.gd and self.regularization:\n",
        "            print('Solved using gradient descent with regularization')\n",
        "            self.w = np.zeros(X_train.shape[1])\n",
        "            self.gradientWithRegularization(X_train,y_train)\n",
        "            \n",
        "        elif self.stochastic_gd and not self.regularization:\n",
        "            print('Solved using stochastic gradient descent without regularization')\n",
        "            self.w = np.zeros(X_train.shape[1])\n",
        "            self.stochasticGradientDescent(X_train,y_train)\n",
        "            \n",
        "        elif self.stochastic_gd and self.regularization:\n",
        "            print('Solved using stochastic gradient descent with regularization')\n",
        "            self.w = np.zeros(X_train.shape[1])\n",
        "            self.stochasticGradientWithRegularization(X_train,y_train)\n",
        "           \n",
        "        \n",
        "        print(self.w)\n",
        "        print('RMSE FOR TRAIN: ' + str(self.rmse(X_train,y_train)))\n",
        "        print('RMSE FOR TEST: ' + str(self.rmse(X_test,y_test)))\n",
        "        print('SSE FOR TRAIN: ' + str(self.sse(X_train, y_train)))\n",
        "        print('SSE FOR TEST: ' + str(self.sse(X_test, y_test)))\n",
        "\n",
        "    "
      ]
    },
    {
      "cell_type": "markdown",
      "id": "82zyNeYLqqVV",
      "metadata": {
        "id": "82zyNeYLqqVV"
      },
      "source": [
        "# HOUSING DATA"
      ]
    },
    {
      "cell_type": "code",
      "execution_count": 3,
      "id": "cGPTLBOvqJaY",
      "metadata": {
        "colab": {
          "base_uri": "https://localhost:8080/"
        },
        "id": "cGPTLBOvqJaY",
        "outputId": "99ca7608-510d-4e52-f4c5-2273088ea9a4"
      },
      "outputs": [
        {
          "output_type": "execute_result",
          "data": {
            "text/plain": [
              "(506, 14)"
            ]
          },
          "metadata": {},
          "execution_count": 3
        }
      ],
      "source": [
        "df = pd.read_csv('housing.csv',header=None,names=['A','B','C','D','E','F','G','H','I','J','K','L','M','N'])\n",
        "df.shape"
      ]
    },
    {
      "cell_type": "code",
      "execution_count": 4,
      "id": "ZM6r4coMqJaZ",
      "metadata": {
        "colab": {
          "base_uri": "https://localhost:8080/"
        },
        "id": "ZM6r4coMqJaZ",
        "outputId": "eb785916-24a8-4c33-efc4-3a8b9552ecb0"
      },
      "outputs": [
        {
          "output_type": "execute_result",
          "data": {
            "text/plain": [
              "count    506.000000\n",
              "mean      22.532806\n",
              "std        9.197104\n",
              "min        5.000000\n",
              "25%       17.025000\n",
              "50%       21.200000\n",
              "75%       25.000000\n",
              "max       50.000000\n",
              "Name: N, dtype: float64"
            ]
          },
          "metadata": {},
          "execution_count": 4
        }
      ],
      "source": [
        "df.N.describe()"
      ]
    },
    {
      "cell_type": "code",
      "execution_count": 5,
      "id": "Hl61AzU2qJaZ",
      "metadata": {
        "id": "Hl61AzU2qJaZ"
      },
      "outputs": [],
      "source": [
        "X = df.values[:,0:-1]\n",
        "y = df.values[:,-1]"
      ]
    },
    {
      "cell_type": "markdown",
      "id": "nndAFQsh1qLL",
      "metadata": {
        "id": "nndAFQsh1qLL"
      },
      "source": [
        "## USING NORMAL EQUATION WITHOUT REGULARIZATION"
      ]
    },
    {
      "cell_type": "code",
      "execution_count": 6,
      "id": "_7Q8w7pXqJaZ",
      "metadata": {
        "colab": {
          "base_uri": "https://localhost:8080/"
        },
        "id": "_7Q8w7pXqJaZ",
        "outputId": "f8e928ae-2650-4863-a6d1-dcc8a9ff3727"
      },
      "outputs": [
        {
          "output_type": "stream",
          "name": "stdout",
          "text": [
            "Solved using normal equation without regularization\n",
            "[22.74548023 -1.01189299  1.05028731  0.07922238  0.61896311 -1.87367112\n",
            "  2.70526765 -0.27955798 -3.09763515  2.09690865 -1.88608488 -2.26109811\n",
            "  0.58264435 -3.44050512]\n",
            "RMSE FOR TRAIN: 4.467466666510133\n",
            "RMSE FOR TEST: 5.214973224911791\n",
            "SSE FOR TRAIN: 7065.2234793982225\n",
            "SSE FOR TEST: 4133.783751955127\n"
          ]
        }
      ],
      "source": [
        "clf = LinearRegression(X,y,0.0004,50000,error= 'rmse', epsilon=0.005,gd=False,stochastic_gd=False,regularization=False, ridge_lambda=0.001)\n",
        "clf.fit()"
      ]
    },
    {
      "cell_type": "markdown",
      "id": "XPk5pmpS1-fp",
      "metadata": {
        "id": "XPk5pmpS1-fp"
      },
      "source": [
        "## USING GRADIENT DESCENT WITHOUT REGULARIZATION"
      ]
    },
    {
      "cell_type": "code",
      "execution_count": 7,
      "id": "eQKz_IXWqJaZ",
      "metadata": {
        "colab": {
          "base_uri": "https://localhost:8080/",
          "height": 474
        },
        "id": "eQKz_IXWqJaZ",
        "outputId": "d69853db-77c1-40e0-c10f-c5dde2d597af"
      },
      "outputs": [
        {
          "output_type": "stream",
          "name": "stdout",
          "text": [
            "Solved using gradient descent without regularization\n"
          ]
        },
        {
          "output_type": "stream",
          "name": "stderr",
          "text": [
            "  1%|          | 325/50000 [00:00<00:04, 11928.36it/s]"
          ]
        },
        {
          "output_type": "stream",
          "name": "stdout",
          "text": [
            "Model stopped running\n"
          ]
        },
        {
          "output_type": "stream",
          "name": "stderr",
          "text": [
            "\n"
          ]
        },
        {
          "output_type": "display_data",
          "data": {
            "text/plain": [
              "<Figure size 432x288 with 1 Axes>"
            ],
            "image/png": "[encoded data removed]"
          },
          "metadata": {
            "needs_background": "light"
          }
        },
        {
          "output_type": "stream",
          "name": "stdout",
          "text": [
            "[22.74548023 -1.0049243   1.03819316  0.03918717  0.62473779 -1.86196032\n",
            "  2.7131382  -0.28829151 -3.09893896  1.99727284 -1.77426616 -2.25659407\n",
            "  0.5806868  -3.43728429]\n",
            "RMSE FOR TRAIN: 4.467639454262914\n",
            "RMSE FOR TEST: 5.219112104874148\n",
            "SSE FOR TRAIN: 7065.770011823464\n",
            "SSE FOR TEST: 4140.347936813067\n"
          ]
        }
      ],
      "source": [
        "clf = LinearRegression(X,y,0.0004,50000,error='rmse', epsilon=0.005,gd=True,stochastic_gd=False,regularization=False, ridge_lambda=0.001)\n",
        "clf.fit()"
      ]
    },
    {
      "cell_type": "markdown",
      "id": "D7OYm0CH13Up",
      "metadata": {
        "id": "D7OYm0CH13Up"
      },
      "source": [
        "## USING STOCHASTIC GRADIENT DESCENT WITHOUT REGULARIZATION"
      ]
    },
    {
      "cell_type": "code",
      "execution_count": 8,
      "id": "LNbnfI_4qJaZ",
      "metadata": {
        "colab": {
          "base_uri": "https://localhost:8080/",
          "height": 474
        },
        "id": "LNbnfI_4qJaZ",
        "outputId": "17ee70ae-a51e-4343-addb-a4376fd553d1"
      },
      "outputs": [
        {
          "output_type": "stream",
          "name": "stdout",
          "text": [
            "Solved using stochastic gradient descent without regularization\n"
          ]
        },
        {
          "output_type": "stream",
          "name": "stderr",
          "text": [
            " 25%|██▌       | 12554/50000 [00:02<00:06, 5429.98it/s]\n"
          ]
        },
        {
          "output_type": "stream",
          "name": "stdout",
          "text": [
            "Model stopped running\n"
          ]
        },
        {
          "output_type": "display_data",
          "data": {
            "text/plain": [
              "<Figure size 432x288 with 1 Axes>"
            ],
            "image/png": "[encoded data removed]"
          },
          "metadata": {
            "needs_background": "light"
          }
        },
        {
          "output_type": "stream",
          "name": "stdout",
          "text": [
            "[22.60171672 -0.98625534  1.08969957  0.06022675  0.4591499  -1.99428033\n",
            "  2.71588304 -0.2322611  -3.11792526  2.0017384  -1.91467759 -2.21828985\n",
            "  0.49764762 -3.26788958]\n",
            "RMSE FOR TRAIN: 4.477694341600782\n",
            "RMSE FOR TEST: 5.256416274155783\n",
            "SSE FOR TRAIN: 7097.610302348496\n",
            "SSE FOR TEST: 4199.746631175884\n"
          ]
        }
      ],
      "source": [
        "clf = LinearRegression(X,y,0.0004,50000,error='rmse', epsilon=0.005,gd=False,stochastic_gd=True,regularization=False, ridge_lambda=200)\n",
        "clf.fit()"
      ]
    },
    {
      "cell_type": "markdown",
      "id": "NWFj3IK73PgK",
      "metadata": {
        "id": "NWFj3IK73PgK"
      },
      "source": [
        "## USING NORMAL EQUATION WITH REGULARIZATION"
      ]
    },
    {
      "cell_type": "code",
      "execution_count": 17,
      "id": "lSd2yAgSqJaa",
      "metadata": {
        "colab": {
          "base_uri": "https://localhost:8080/"
        },
        "id": "lSd2yAgSqJaa",
        "outputId": "5b66c4bb-bcbb-4045-feec-7ed26575c20e"
      },
      "outputs": [
        {
          "output_type": "stream",
          "name": "stdout",
          "text": [
            "Solved using normal equation with regularization\n",
            "[20.43629442 -0.81601561  0.69403944 -0.34721997  0.68363057 -1.04754131\n",
            "  2.81980805 -0.33777338 -2.07888604  0.74578352 -0.79387682 -2.03361886\n",
            "  0.59364614 -2.98886261]\n",
            "RMSE FOR TRAIN: 5.101876467608425\n",
            "RMSE FOR TEST: 5.903280470421898\n",
            "SSE FOR TRAIN: 9214.316795720762\n",
            "SSE FOR TEST: 5297.005487494617\n"
          ]
        }
      ],
      "source": [
        "clf = LinearRegression(X,y,0.0004,5000,error= 'rmse', epsilon=0.005,gd=False,stochastic_gd=False,regularization=True, ridge_lambda=40)\n",
        "clf.fit()"
      ]
    },
    {
      "cell_type": "markdown",
      "id": "U86ZnhS83LWi",
      "metadata": {
        "id": "U86ZnhS83LWi"
      },
      "source": [
        "## USING GRADIENT DESCENT WITH REGULARIZATION"
      ]
    },
    {
      "cell_type": "code",
      "execution_count": 18,
      "id": "rQxVIQJXqJaa",
      "metadata": {
        "colab": {
          "base_uri": "https://localhost:8080/",
          "height": 474
        },
        "id": "rQxVIQJXqJaa",
        "outputId": "54e06c34-d7eb-4478-b6ab-341333e63dfa"
      },
      "outputs": [
        {
          "output_type": "stream",
          "name": "stdout",
          "text": [
            "Solved using gradient descent with regularization\n"
          ]
        },
        {
          "output_type": "stream",
          "name": "stderr",
          "text": [
            "  0%|          | 119/50000 [00:00<00:02, 17592.69it/s]"
          ]
        },
        {
          "output_type": "stream",
          "name": "stdout",
          "text": [
            "Model stopped running\n"
          ]
        },
        {
          "output_type": "stream",
          "name": "stderr",
          "text": [
            "\n"
          ]
        },
        {
          "output_type": "display_data",
          "data": {
            "text/plain": [
              "<Figure size 432x288 with 1 Axes>"
            ],
            "image/png": "[encoded data removed]"
          },
          "metadata": {
            "needs_background": "light"
          }
        },
        {
          "output_type": "stream",
          "name": "stdout",
          "text": [
            "[20.43629439 -0.81266143  0.68736497 -0.35902635  0.68559899 -1.03505989\n",
            "  2.82502295 -0.34139736 -2.07044565  0.712548   -0.76045807 -2.03136152\n",
            "  0.5937129  -2.98654927]\n",
            "RMSE FOR TRAIN: 5.103653344152873\n",
            "RMSE FOR TEST: 5.905627964021699\n",
            "SSE FOR TRAIN: 9220.736219878112\n",
            "SSE FOR TEST: 5301.219130714132\n"
          ]
        }
      ],
      "source": [
        "clf = LinearRegression(X,y,0.0004,50000,error='rmse', epsilon=0.005,gd=True,stochastic_gd=False,regularization=True, ridge_lambda=40)\n",
        "clf.fit()"
      ]
    },
    {
      "cell_type": "markdown",
      "id": "kVTer4bQ3GBB",
      "metadata": {
        "id": "kVTer4bQ3GBB"
      },
      "source": [
        "## USING STOCHASTIC GRADIENT DESCENT WITH REGULARIZATION"
      ]
    },
    {
      "cell_type": "code",
      "execution_count": 19,
      "id": "T0xgLLlpqJaa",
      "metadata": {
        "colab": {
          "base_uri": "https://localhost:8080/",
          "height": 456
        },
        "id": "T0xgLLlpqJaa",
        "outputId": "b41b854d-c0ba-4bee-93df-f4913369bac3"
      },
      "outputs": [
        {
          "output_type": "stream",
          "name": "stdout",
          "text": [
            "Solved using stochastic gradient descent with regularization\n"
          ]
        },
        {
          "output_type": "stream",
          "name": "stderr",
          "text": [
            "100%|██████████| 50000/50000 [00:10<00:00, 4606.47it/s]\n"
          ]
        },
        {
          "output_type": "display_data",
          "data": {
            "text/plain": [
              "<Figure size 432x288 with 1 Axes>"
            ],
            "image/png": "[encoded data removed]"
          },
          "metadata": {
            "needs_background": "light"
          }
        },
        {
          "output_type": "stream",
          "name": "stdout",
          "text": [
            "[14.41092731 -0.60989322  0.51827441 -0.40296818  0.56826812 -0.50242727\n",
            "  2.18515097 -0.25929702 -0.80293991  0.04533306 -0.4562505  -1.47203689\n",
            "  0.70721495 -2.14134907]\n",
            "RMSE FOR TRAIN: 9.760967175166808\n",
            "RMSE FOR TEST: 10.110149276477214\n",
            "SSE FOR TRAIN: 33727.8739889181\n",
            "SSE FOR TEST: 15536.697995683215\n"
          ]
        }
      ],
      "source": [
        "clf = LinearRegression(X,y,0.0004,50000,error='rmse', epsilon=0.005,gd=False,stochastic_gd=True,regularization=True, ridge_lambda=40)\n",
        "clf.fit()"
      ]
    },
    {
      "cell_type": "markdown",
      "id": "T3S7B2qe2Aup",
      "metadata": {
        "id": "T3S7B2qe2Aup"
      },
      "source": [
        "# CONCRETE DATA"
      ]
    },
    {
      "cell_type": "code",
      "execution_count": 20,
      "id": "zEQEYZkcqJaa",
      "metadata": {
        "colab": {
          "base_uri": "https://localhost:8080/"
        },
        "id": "zEQEYZkcqJaa",
        "outputId": "3d64fa73-330a-4581-d0fd-e263eae962dd"
      },
      "outputs": [
        {
          "output_type": "execute_result",
          "data": {
            "text/plain": [
              "(1030, 9)"
            ]
          },
          "metadata": {},
          "execution_count": 20
        }
      ],
      "source": [
        "df1 = pd.read_csv('concreteData.csv',header=None,names=['A','B','C','D','E','F','G','H','I'])\n",
        "df1.shape"
      ]
    },
    {
      "cell_type": "code",
      "execution_count": 21,
      "id": "7xVcYwAgqJaa",
      "metadata": {
        "colab": {
          "base_uri": "https://localhost:8080/"
        },
        "id": "7xVcYwAgqJaa",
        "outputId": "33958344-3119-4313-b998-c518284c98bd"
      },
      "outputs": [
        {
          "output_type": "execute_result",
          "data": {
            "text/plain": [
              "count    1030.000000\n",
              "mean       35.817961\n",
              "std        16.705742\n",
              "min         2.330000\n",
              "25%        23.710000\n",
              "50%        34.445000\n",
              "75%        46.135000\n",
              "max        82.600000\n",
              "Name: I, dtype: float64"
            ]
          },
          "metadata": {},
          "execution_count": 21
        }
      ],
      "source": [
        "df1.I.describe()"
      ]
    },
    {
      "cell_type": "code",
      "execution_count": 22,
      "id": "ToWRhEv8qJaa",
      "metadata": {
        "id": "ToWRhEv8qJaa"
      },
      "outputs": [],
      "source": [
        "X = df1.values[:,0:-1]\n",
        "y = df1.values[:,-1]"
      ]
    },
    {
      "cell_type": "markdown",
      "id": "5XP2rX_C2kN5",
      "metadata": {
        "id": "5XP2rX_C2kN5"
      },
      "source": [
        "## USING NORMAL EQUATION WITHOUT REGULARIZATION"
      ]
    },
    {
      "cell_type": "code",
      "execution_count": 23,
      "id": "7PmqjKu2qJaa",
      "metadata": {
        "colab": {
          "base_uri": "https://localhost:8080/"
        },
        "id": "7PmqjKu2qJaa",
        "outputId": "d513ba25-a361-4660-ee40-0ea591bebe49"
      },
      "outputs": [
        {
          "output_type": "stream",
          "name": "stdout",
          "text": [
            "Solved using normal equation without regularization\n",
            "[35.85368932 12.72547471  9.54463305  5.99752761 -2.82130272  2.10540297\n",
            "  1.85195151  1.95023318  7.17433735]\n",
            "RMSE FOR TRAIN: 10.64860379952002\n",
            "RMSE FOR TEST: 9.67567754660951\n",
            "SSE FOR TRAIN: 81756.18203586874\n",
            "SSE FOR TEST: 28928.189419662704\n"
          ]
        }
      ],
      "source": [
        "clf1 = LinearRegression(X,y,0.0007,5000,error= 'rmse', epsilon=0.0001,gd=False,stochastic_gd=False,regularization=False, ridge_lambda=0.001)\n",
        "clf1.fit()"
      ]
    },
    {
      "cell_type": "markdown",
      "id": "fN2_xV1V2G3M",
      "metadata": {
        "id": "fN2_xV1V2G3M"
      },
      "source": [
        "## USING GRADIENT DESCENT WITHOUT REGULARIZATION"
      ]
    },
    {
      "cell_type": "code",
      "execution_count": 24,
      "id": "VEqH4-VpqJaa",
      "metadata": {
        "colab": {
          "base_uri": "https://localhost:8080/",
          "height": 456
        },
        "id": "VEqH4-VpqJaa",
        "outputId": "9ef16873-949f-49bd-cb9b-5737470d5121"
      },
      "outputs": [
        {
          "output_type": "stream",
          "name": "stdout",
          "text": [
            "Solved using gradient descent without regularization\n"
          ]
        },
        {
          "output_type": "stream",
          "name": "stderr",
          "text": [
            "  1%|          | 418/50000 [00:00<00:02, 24592.43it/s]"
          ]
        },
        {
          "output_type": "stream",
          "name": "stdout",
          "text": [
            "Model stopped running\n"
          ]
        },
        {
          "output_type": "stream",
          "name": "stderr",
          "text": [
            "\n"
          ]
        },
        {
          "output_type": "display_data",
          "data": {
            "text/plain": [
              "<Figure size 432x288 with 1 Axes>"
            ],
            "image/png": "[encoded data removed]"
          },
          "metadata": {
            "needs_background": "light"
          }
        },
        {
          "output_type": "stream",
          "name": "stdout",
          "text": [
            "[35.85368932 12.71818519  9.53732026  5.9910877  -2.8275422   2.10453997\n",
            "  1.84619169  1.94309972  7.17414238]\n",
            "RMSE FOR TRAIN: 10.648604198134784\n",
            "RMSE FOR TEST: 9.675518604088847\n",
            "SSE FOR TRAIN: 81756.18815671283\n",
            "SSE FOR TEST: 28927.239019743443\n"
          ]
        }
      ],
      "source": [
        "clf1 = LinearRegression(X,y,0.0007,50000,error='rmse', epsilon=0.0001,gd=True,stochastic_gd=False,regularization=False, ridge_lambda=0.001)\n",
        "clf1.fit()"
      ]
    },
    {
      "cell_type": "markdown",
      "id": "keMPi6LV2FlA",
      "metadata": {
        "id": "keMPi6LV2FlA"
      },
      "source": [
        "## USING STOCHASTIC GRADIENT DESCENT WITHOUT REGULARIZATION"
      ]
    },
    {
      "cell_type": "code",
      "execution_count": 25,
      "id": "66KA-TC8qJaa",
      "metadata": {
        "colab": {
          "base_uri": "https://localhost:8080/",
          "height": 438
        },
        "id": "66KA-TC8qJaa",
        "outputId": "7aeb97a9-8d07-46c8-df31-dc613aaa025d"
      },
      "outputs": [
        {
          "output_type": "stream",
          "name": "stdout",
          "text": [
            "Solved using stochastic gradient descent without regularization\n"
          ]
        },
        {
          "output_type": "stream",
          "name": "stderr",
          "text": [
            "100%|██████████| 50000/50000 [00:11<00:00, 4543.72it/s]\n"
          ]
        },
        {
          "output_type": "display_data",
          "data": {
            "text/plain": [
              "<Figure size 432x288 with 1 Axes>"
            ],
            "image/png": "[encoded data removed]"
          },
          "metadata": {
            "needs_background": "light"
          }
        },
        {
          "output_type": "stream",
          "name": "stdout",
          "text": [
            "[35.58657831 12.67651554  9.43228577  6.56044034 -3.01421743  1.79857352\n",
            "  1.76107448  2.03871832  6.74846117]\n",
            "RMSE FOR TRAIN: 10.68231802607895\n",
            "RMSE FOR TEST: 9.792503493964569\n",
            "SSE FOR TRAIN: 82274.69317382001\n",
            "SSE FOR TEST: 29630.97552590626\n"
          ]
        }
      ],
      "source": [
        "clf1 = LinearRegression(X,y,0.0007,50000,error='rmse', epsilon=0.0001,gd=False,stochastic_gd=True,regularization=False, ridge_lambda=10)\n",
        "clf1.fit()"
      ]
    },
    {
      "cell_type": "markdown",
      "id": "EcvH7y-H3bBu",
      "metadata": {
        "id": "EcvH7y-H3bBu"
      },
      "source": [
        "## USING NORMAL EQUATION WITH REGULARIZATION"
      ]
    },
    {
      "cell_type": "code",
      "execution_count": 28,
      "id": "PZp_vb6UqJaa",
      "metadata": {
        "colab": {
          "base_uri": "https://localhost:8080/"
        },
        "id": "PZp_vb6UqJaa",
        "outputId": "d7cdbff8-d78d-410d-ca0f-cba0112320b6"
      },
      "outputs": [
        {
          "output_type": "stream",
          "name": "stdout",
          "text": [
            "Solved using normal equation with regularization\n",
            "[29.67911596  6.30076299  3.31613588  0.4583879  -4.38690433  3.03045237\n",
            " -1.18388416 -2.10817459  5.48130471]\n",
            "RMSE FOR TRAIN: 12.734049752530996\n",
            "RMSE FOR TEST: 12.127540758084928\n",
            "SSE FOR TRAIN: 116914.49265505295\n",
            "SSE FOR TEST: 45446.868655254446\n"
          ]
        }
      ],
      "source": [
        "clf1 = LinearRegression(X,y,0.0007,50000,error= 'rmse', epsilon=0.0001,gd=False,stochastic_gd=False,regularization=True, ridge_lambda=150)\n",
        "clf1.fit()"
      ]
    },
    {
      "cell_type": "markdown",
      "id": "Qsh5cvjL2_rr",
      "metadata": {
        "id": "Qsh5cvjL2_rr"
      },
      "source": [
        "## USING GRADIENT DESCENT WITH REGULARIZATION"
      ]
    },
    {
      "cell_type": "code",
      "execution_count": 29,
      "id": "2L8kVssOqJab",
      "metadata": {
        "colab": {
          "base_uri": "https://localhost:8080/",
          "height": 456
        },
        "id": "2L8kVssOqJab",
        "outputId": "04eb0144-d632-440e-90ad-0766185c250c"
      },
      "outputs": [
        {
          "output_type": "stream",
          "name": "stdout",
          "text": [
            "Solved using gradient descent with regularization\n"
          ]
        },
        {
          "output_type": "stream",
          "name": "stderr",
          "text": [
            "  0%|          | 52/50000 [00:00<00:03, 12943.85it/s]"
          ]
        },
        {
          "output_type": "stream",
          "name": "stdout",
          "text": [
            "Model stopped running\n"
          ]
        },
        {
          "output_type": "stream",
          "name": "stderr",
          "text": [
            "\n"
          ]
        },
        {
          "output_type": "display_data",
          "data": {
            "text/plain": [
              "<Figure size 432x288 with 1 Axes>"
            ],
            "image/png": "[encoded data removed]"
          },
          "metadata": {
            "needs_background": "light"
          }
        },
        {
          "output_type": "stream",
          "name": "stdout",
          "text": [
            "[29.67911596  6.29995016  3.31532044  0.45766559 -4.38758037  3.03037497\n",
            " -1.18451526 -2.10896281  5.48128132]\n",
            "RMSE FOR TRAIN: 12.734101135638767\n",
            "RMSE FOR TEST: 12.127554671677824\n",
            "SSE FOR TRAIN: 116915.43617925978\n",
            "SSE FOR TEST: 45446.9729351912\n"
          ]
        }
      ],
      "source": [
        "clf1 = LinearRegression(X,y,0.0007,50000,error='rmse', epsilon=0.0001,gd=True,stochastic_gd=False,regularization=True, ridge_lambda=150)\n",
        "clf1.fit()"
      ]
    },
    {
      "cell_type": "markdown",
      "id": "GcOWD1cw293H",
      "metadata": {
        "id": "GcOWD1cw293H"
      },
      "source": [
        "## USING STOCHASTIC GRADIENT DESCENT WITH REGULARIZATION"
      ]
    },
    {
      "cell_type": "code",
      "execution_count": 30,
      "id": "EDF09fP8qJab",
      "metadata": {
        "colab": {
          "base_uri": "https://localhost:8080/",
          "height": 438
        },
        "id": "EDF09fP8qJab",
        "outputId": "2225d4e2-7041-4197-9f1e-04470dc7ee9d"
      },
      "outputs": [
        {
          "output_type": "stream",
          "name": "stdout",
          "text": [
            "Solved using stochastic gradient descent with regularization\n"
          ]
        },
        {
          "output_type": "stream",
          "name": "stderr",
          "text": [
            "100%|██████████| 50000/50000 [00:11<00:00, 4301.64it/s]\n"
          ]
        },
        {
          "output_type": "display_data",
          "data": {
            "text/plain": [
              "<Figure size 432x288 with 1 Axes>"
            ],
            "image/png": "[encoded data removed]"
          },
          "metadata": {
            "needs_background": "light"
          }
        },
        {
          "output_type": "stream",
          "name": "stdout",
          "text": [
            "[17.55584085  3.31382198  1.08576879  0.10913089 -1.88485142  2.15863184\n",
            " -0.94061946 -1.71286862  3.07231753]\n",
            "RMSE FOR TRAIN: 22.473837666724584\n",
            "RMSE FOR TEST: 22.006306361163873\n",
            "SSE FOR TRAIN: 364157.90659807815\n",
            "SSE FOR TEST: 149641.7535753731\n"
          ]
        }
      ],
      "source": [
        "clf = LinearRegression(X,y,0.0007,50000,error='rmse', epsilon=0.0001,gd=False,stochastic_gd=True,regularization=True, ridge_lambda=150)\n",
        "clf.fit()"
      ]
    },
    {
      "cell_type": "markdown",
      "id": "NWxzEndt2MvW",
      "metadata": {
        "id": "NWxzEndt2MvW"
      },
      "source": [
        "# YACHT DATA"
      ]
    },
    {
      "cell_type": "code",
      "execution_count": 31,
      "id": "JG-JW6MSqJab",
      "metadata": {
        "colab": {
          "base_uri": "https://localhost:8080/"
        },
        "id": "JG-JW6MSqJab",
        "outputId": "06d7bf3a-8a3b-4833-e624-2ab1a0a2ee60"
      },
      "outputs": [
        {
          "output_type": "execute_result",
          "data": {
            "text/plain": [
              "(308, 7)"
            ]
          },
          "metadata": {},
          "execution_count": 31
        }
      ],
      "source": [
        "df2 = pd.read_csv('yachtData.csv',header=None,names=['A','B','C','D','E','F','G'])\n",
        "df2.shape"
      ]
    },
    {
      "cell_type": "code",
      "execution_count": 32,
      "id": "hreUZo6OqJab",
      "metadata": {
        "colab": {
          "base_uri": "https://localhost:8080/"
        },
        "id": "hreUZo6OqJab",
        "outputId": "6b0b5cfe-1853-4209-f3cf-4a6ad1bd7dc8"
      },
      "outputs": [
        {
          "output_type": "execute_result",
          "data": {
            "text/plain": [
              "count    308.000000\n",
              "mean      10.495357\n",
              "std       15.160490\n",
              "min        0.010000\n",
              "25%        0.777500\n",
              "50%        3.065000\n",
              "75%       12.815000\n",
              "max       62.420000\n",
              "Name: G, dtype: float64"
            ]
          },
          "metadata": {},
          "execution_count": 32
        }
      ],
      "source": [
        "df2.G.describe()"
      ]
    },
    {
      "cell_type": "code",
      "execution_count": 33,
      "id": "1TLFj9vOqJab",
      "metadata": {
        "id": "1TLFj9vOqJab"
      },
      "outputs": [],
      "source": [
        "X = df2.values[:,0:-1]\n",
        "y = df2.values[:,-1]"
      ]
    },
    {
      "cell_type": "markdown",
      "id": "3khcVdaY2n0w",
      "metadata": {
        "id": "3khcVdaY2n0w"
      },
      "source": [
        "## USING NORMAL EQUATION WITHOUT REGULARIZATION"
      ]
    },
    {
      "cell_type": "code",
      "execution_count": 34,
      "id": "cSm89B1nqJab",
      "metadata": {
        "colab": {
          "base_uri": "https://localhost:8080/"
        },
        "id": "cSm89B1nqJab",
        "outputId": "a8fe93fb-00c8-458c-b761-de12caa9fe3d"
      },
      "outputs": [
        {
          "output_type": "stream",
          "name": "stdout",
          "text": [
            "Solved using normal equation without regularization\n",
            "[11.23939535  0.81790302  0.20369276  2.97602416 -2.75890138 -3.83325201\n",
            " 12.9328097 ]\n",
            "RMSE FOR TRAIN: 9.012054802825176\n",
            "RMSE FOR TEST: 8.80194763079057\n",
            "SSE FOR TRAIN: 17461.68333036173\n",
            "SSE FOR TEST: 7205.108234851716\n"
          ]
        }
      ],
      "source": [
        "clf2 = LinearRegression(X,y,0.001,50000,error= 'rmse', epsilon=0.001,gd=False,stochastic_gd=False,regularization=False, ridge_lambda=0.001)\n",
        "clf2.fit()"
      ]
    },
    {
      "cell_type": "markdown",
      "id": "WdK0hmz62Xed",
      "metadata": {
        "id": "WdK0hmz62Xed"
      },
      "source": [
        "## USING GRADIENT DESCENT WITHOUT REGULARIZATION"
      ]
    },
    {
      "cell_type": "code",
      "execution_count": 35,
      "id": "t2PV9XW2qJab",
      "metadata": {
        "colab": {
          "base_uri": "https://localhost:8080/",
          "height": 456
        },
        "id": "t2PV9XW2qJab",
        "outputId": "21f5c83c-a563-4055-acdf-5084ec7572f4"
      },
      "outputs": [
        {
          "output_type": "stream",
          "name": "stdout",
          "text": [
            "Solved using gradient descent without regularization\n"
          ]
        },
        {
          "output_type": "stream",
          "name": "stderr",
          "text": [
            "  3%|▎         | 1411/50000 [00:00<00:01, 39865.30it/s]"
          ]
        },
        {
          "output_type": "stream",
          "name": "stdout",
          "text": [
            "Model stopped running\n"
          ]
        },
        {
          "output_type": "stream",
          "name": "stderr",
          "text": [
            "\n"
          ]
        },
        {
          "output_type": "display_data",
          "data": {
            "text/plain": [
              "<Figure size 432x288 with 1 Axes>"
            ],
            "image/png": "[encoded data removed]"
          },
          "metadata": {
            "needs_background": "light"
          }
        },
        {
          "output_type": "stream",
          "name": "stdout",
          "text": [
            "[11.23939535  0.81411017  0.10089999  2.56682738 -2.42492656 -3.43736949\n",
            " 12.93251924]\n",
            "RMSE FOR TRAIN: 9.012226843337482\n",
            "RMSE FOR TEST: 8.793953646648665\n",
            "SSE FOR TRAIN: 17462.350025291125\n",
            "SSE FOR TEST: 7192.0267287647\n"
          ]
        }
      ],
      "source": [
        "clf2 = LinearRegression(X,y,0.001,50000,error='rmse', epsilon=0.001,gd=True,stochastic_gd=False,regularization=False, ridge_lambda=0.001)\n",
        "clf2.fit()"
      ]
    },
    {
      "cell_type": "markdown",
      "id": "vuEgO9CA2Yde",
      "metadata": {
        "id": "vuEgO9CA2Yde"
      },
      "source": [
        "## USING STOCHASTIC GRADIENT DESCENT WITHOUT REGULARIZATION"
      ]
    },
    {
      "cell_type": "code",
      "execution_count": 36,
      "id": "x4U27TPvqJab",
      "metadata": {
        "colab": {
          "base_uri": "https://localhost:8080/",
          "height": 438
        },
        "id": "x4U27TPvqJab",
        "outputId": "61c45cf7-ee13-4b4b-902d-9c1fbf030224"
      },
      "outputs": [
        {
          "output_type": "stream",
          "name": "stdout",
          "text": [
            "Solved using stochastic gradient descent without regularization\n"
          ]
        },
        {
          "output_type": "stream",
          "name": "stderr",
          "text": [
            "100%|██████████| 50000/50000 [00:09<00:00, 5365.83it/s]\n"
          ]
        },
        {
          "output_type": "display_data",
          "data": {
            "text/plain": [
              "<Figure size 432x288 with 1 Axes>"
            ],
            "image/png": "[encoded data removed]"
          },
          "metadata": {
            "needs_background": "light"
          }
        },
        {
          "output_type": "stream",
          "name": "stdout",
          "text": [
            "[11.40928993  0.65981589  0.14046553  2.82571513 -2.92362306 -3.86970032\n",
            " 12.90379113]\n",
            "RMSE FOR TRAIN: 9.019682151104396\n",
            "RMSE FOR TEST: 8.863198200289323\n",
            "SSE FOR TRAIN: 17491.25321299451\n",
            "SSE FOR TEST: 7305.734257397907\n"
          ]
        }
      ],
      "source": [
        "clf2 = LinearRegression(X,y,0.001,50000,error='rmse', epsilon=0.001,gd=False,stochastic_gd=True,regularization=False, ridge_lambda=10)\n",
        "clf2.fit()"
      ]
    },
    {
      "cell_type": "markdown",
      "id": "bToEUn853eKX",
      "metadata": {
        "id": "bToEUn853eKX"
      },
      "source": [
        "## USING NORMAL EQUATION WITH REGULARIZATION"
      ]
    },
    {
      "cell_type": "code",
      "execution_count": 41,
      "id": "ff4Syq2ZqJab",
      "metadata": {
        "colab": {
          "base_uri": "https://localhost:8080/"
        },
        "id": "ff4Syq2ZqJab",
        "outputId": "040b38aa-122a-48c4-b4b0-d8da0ecc7c9c"
      },
      "outputs": [
        {
          "output_type": "stream",
          "name": "stdout",
          "text": [
            "Solved using normal equation with regularization\n",
            "[ 5.19670968  0.46671432 -0.32122345 -0.33055234 -0.09398695 -0.39220606\n",
            "  5.98843953]\n",
            "RMSE FOR TRAIN: 12.910114852207474\n",
            "RMSE FOR TEST: 10.400658777425008\n",
            "SSE FOR TRAIN: 35834.27908189542\n",
            "SSE FOR TEST: 10060.154379411792\n"
          ]
        }
      ],
      "source": [
        "clf2 = LinearRegression(X,y,0.001,50000,error= 'rmse', epsilon=0.001,gd=False,stochastic_gd=False,regularization=True, ridge_lambda=250)\n",
        "clf2.fit()"
      ]
    },
    {
      "cell_type": "markdown",
      "id": "C712YHz12vk6",
      "metadata": {
        "id": "C712YHz12vk6"
      },
      "source": [
        "## USING GRADIENT DESCENT WITH REGULARIZATION"
      ]
    },
    {
      "cell_type": "code",
      "execution_count": 42,
      "id": "fqe0j1eMqJab",
      "metadata": {
        "colab": {
          "base_uri": "https://localhost:8080/",
          "height": 456
        },
        "id": "fqe0j1eMqJab",
        "outputId": "0617c3a8-da73-488b-dd1e-beb62e99a13f"
      },
      "outputs": [
        {
          "output_type": "stream",
          "name": "stdout",
          "text": [
            "Solved using gradient descent with regularization\n"
          ]
        },
        {
          "output_type": "stream",
          "name": "stderr",
          "text": [
            "  0%|          | 13/50000 [00:00<00:07, 6628.49it/s]"
          ]
        },
        {
          "output_type": "stream",
          "name": "stdout",
          "text": [
            "Model stopped running\n"
          ]
        },
        {
          "output_type": "stream",
          "name": "stderr",
          "text": [
            "\n"
          ]
        },
        {
          "output_type": "display_data",
          "data": {
            "text/plain": [
              "<Figure size 432x288 with 1 Axes>"
            ],
            "image/png": "[encoded data removed]"
          },
          "metadata": {
            "needs_background": "light"
          }
        },
        {
          "output_type": "stream",
          "name": "stdout",
          "text": [
            "[ 5.19589181  0.46680617 -0.32128233 -0.33096849 -0.09376199 -0.39188316\n",
            "  5.98748852]\n",
            "RMSE FOR TRAIN: 12.911005993354395\n",
            "RMSE FOR TEST: 10.401376917205424\n",
            "SSE FOR TRAIN: 35839.22628849312\n",
            "SSE FOR TEST: 10061.543684960963\n"
          ]
        }
      ],
      "source": [
        "clf2 = LinearRegression(X,y,0.001,50000,error='rmse', epsilon=0.001,gd=True,stochastic_gd=False,regularization=True, ridge_lambda=250)\n",
        "clf2.fit()"
      ]
    },
    {
      "cell_type": "markdown",
      "id": "Xbw1hhF_2sXd",
      "metadata": {
        "id": "Xbw1hhF_2sXd"
      },
      "source": [
        "## USING STOCHASTIC GRADIENT DESCENT WITH REGULARIZATION"
      ]
    },
    {
      "cell_type": "code",
      "execution_count": 43,
      "id": "CcIfQBNvqJab",
      "metadata": {
        "colab": {
          "base_uri": "https://localhost:8080/",
          "height": 438
        },
        "id": "CcIfQBNvqJab",
        "outputId": "7214f8e8-7d3e-4d40-9d51-d6448069f2c4"
      },
      "outputs": [
        {
          "output_type": "stream",
          "name": "stdout",
          "text": [
            "Solved using stochastic gradient descent with regularization\n"
          ]
        },
        {
          "output_type": "stream",
          "name": "stderr",
          "text": [
            "100%|██████████| 50000/50000 [00:09<00:00, 5041.85it/s]\n"
          ]
        },
        {
          "output_type": "display_data",
          "data": {
            "text/plain": [
              "<Figure size 432x288 with 1 Axes>"
            ],
            "image/png": "[encoded data removed]"
          },
          "metadata": {
            "needs_background": "light"
          }
        },
        {
          "output_type": "stream",
          "name": "stdout",
          "text": [
            "[ 1.84957824  0.3494594   0.10026685 -0.29053001 -0.19173766 -0.13048839\n",
            "  2.17263612]\n",
            "RMSE FOR TRAIN: 16.94424422118329\n",
            "RMSE FOR TEST: 13.631935762760701\n",
            "SSE FOR TRAIN: 61728.093628827206\n",
            "SSE FOR TEST: 17282.15955552318\n"
          ]
        }
      ],
      "source": [
        "clf2 = LinearRegression(X,y,0.001,50000,error='rmse', epsilon=0.001,gd=False,stochastic_gd=True,regularization=True, ridge_lambda=250)\n",
        "clf2.fit()"
      ]
    },
    {
      "cell_type": "markdown",
      "id": "5d20c052",
      "metadata": {
        "id": "5d20c052"
      },
      "source": [
        "OBSERVATIONS:\n",
        "\n",
        "1) The first theta term is the intercept and that is why it may have a high value. In other words, high value for first theta does not indicate overfitting.\n",
        "\n",
        "2) For Normal Equation, Gradient Descent and Stochastic Gradient Descent , the Theta value decreases when regularisation is used.\n",
        "\n",
        "3) There is an increase in the RMSE value when we increase the ridge lambda while doing regularization for Normal Equation, Gradient Descent and Stochastic Gradient Descent. Which is expected as regularization avoids overfitting.\n",
        "\n",
        "4) It was observed that accross multiple runs stochastic graient descent rarely converges. Almost all the time, the number of iterations reaches the maximum number of iteration. This is because the dataset size is small, hence gradient descent outperforms stochastic gradient descent.\n"
      ]
    }
  ],
  "metadata": {
    "colab": {
      "provenance": []
    },
    "kernelspec": {
      "display_name": "Python 3 (ipykernel)",
      "language": "python",
      "name": "python3"
    },
    "language_info": {
      "codemirror_mode": {
        "name": "ipython",
        "version": 3
      },
      "file_extension": ".py",
      "mimetype": "text/x-python",
      "name": "python",
      "nbconvert_exporter": "python",
      "pygments_lexer": "ipython3",
      "version": "3.9.13"
    }
  },
  "nbformat": 4,
  "nbformat_minor": 5
}